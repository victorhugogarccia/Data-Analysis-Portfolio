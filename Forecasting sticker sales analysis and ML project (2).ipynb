{
 "cells": [
  {
   "cell_type": "markdown",
   "id": "923239cc-21ca-4b08-81e3-1848d69b9aae",
   "metadata": {},
   "source": [
    "# Tabla de contenido\n",
    "---\n",
    "- <a href='#c1'> 1. Carga y exploracion de datos </a>\n",
    "- <a href='#c2'> 2. Analisis de datos </a>\n",
    "- <a href='#c3'> 3. Limpieza y procesamiento de datos </a>\n",
    "- <a href='#c4'> 4. Construccion de modelos </a>\n",
    "- <a href='#c5'> 5. Evaluacion de modelos y ajuste de hiperparametros </a>\n",
    "- <a href='#c6'> 6. Resultados </a>"
   ]
  },
  {
   "cell_type": "markdown",
   "id": "a2fbb651-75c1-4e0a-96a6-effd3a781bea",
   "metadata": {},
   "source": [
    "<a id='c1'></a>\n",
    "# <div style=\"text-align:center; border-radius:15px 15px; padding:15px; color:#333333; margin:0; ; padding:15px; font-size:100%; font:'Verdana'; background-color:#F5F5F5;border: 1px; overflow:hidden\"><b>1. Cargar y explorar dataset</b></div>"
   ]
  },
  {
   "cell_type": "code",
   "execution_count": 2,
   "id": "5f455f03-9b4f-49f5-80ca-88ba7a46f145",
   "metadata": {},
   "outputs": [
    {
     "data": {
      "application/javascript": [
       "if (window.IPython && IPython.notebook.kernel) IPython.notebook.kernel.execute('jovian.utils.jupyter.get_notebook_name_saved = lambda: \"' + IPython.notebook.notebook_name + '\"')"
      ],
      "text/plain": [
       "<IPython.core.display.Javascript object>"
      ]
     },
     "metadata": {},
     "output_type": "display_data"
    }
   ],
   "source": [
    "import pandas as pd\n",
    "import numpy as np\n",
    "import matplotlib.pyplot as plt\n",
    "import seaborn as sns\n",
    "import plotly.express as px\n",
    "\n",
    "import jovian\n",
    "\n",
    "from sklearn.model_selection import train_test_split\n",
    "from sklearn.preprocessing import OneHotEncoder\n",
    "from sklearn.metrics import mean_squared_error, accuracy_score, classification_report\n",
    "from sklearn.linear_model import LinearRegression, Ridge, ElasticNet, SGDRegressor\n",
    "from sklearn.ensemble import RandomForestRegressor\n",
    "from sklearn.tree import DecisionTreeRegressor, export_graphviz, plot_tree\n",
    "from sklearn.svm import SVR\n",
    "from sklearn.model_selection import RandomizedSearchCV\n",
    "from scipy.stats import randint"
   ]
  },
  {
   "cell_type": "code",
   "execution_count": 3,
   "id": "b41d50bc-0506-4dcd-bad1-0c7cb10fc836",
   "metadata": {},
   "outputs": [],
   "source": [
    "raw_df = pd.read_csv('train.csv')\n",
    "test_df = pd.read_csv('test.csv')"
   ]
  },
  {
   "cell_type": "markdown",
   "id": "fdcf44ca-a561-400d-9f91-edf914f9c568",
   "metadata": {},
   "source": [
    "# Descripcion de datos\n",
    "Nuestro conjunto de datos consta de 3 archivos, `train.csv` lo ocuparemos para el entrenamiento de modelos, `test.csv` para probar y ajustarlos y por último `sample_submission.csv` sirve para reportar nuestras predicciones y subirlas en la plataforma kaggle para ver la precision conseguida.\n",
    "\n",
    "## Estructura del dataset a entrenar\n",
    "- **Numero de filas**: 230130\n",
    "- **Numero de columnas**: 6\n",
    "- **Data types**: \n",
    "  - 4 columnas son valores categoricos (`object`)\n",
    "  - 1 columna es del tipo númerico con punto flotante (`float64`)\n",
    "  - 1 columna es del tipo númerico de valor entero (`int64`)\n",
    "\n",
    "## Columnas\n",
    "1. **id**: Numero identificador de cada venta\n",
    "2. **date**: Fecha de compra (YYYY/MM/DD)\n",
    "3. **country**: Pais donde se realizo la venta\n",
    "4. **product**: Nombre del producto vendido\n",
    "5. **store**: Nombre de la tienda donde se vendio\n",
    "6. **num_sold**: Numero de ventas\n",
    "---"
   ]
  },
  {
   "cell_type": "code",
   "execution_count": 6,
   "id": "c0448454-0f2d-4691-a7a2-b6a516af1072",
   "metadata": {},
   "outputs": [
    {
     "name": "stdout",
     "output_type": "stream",
     "text": [
      "<class 'pandas.core.frame.DataFrame'>\n",
      "RangeIndex: 230130 entries, 0 to 230129\n",
      "Data columns (total 6 columns):\n",
      " #   Column    Non-Null Count   Dtype  \n",
      "---  ------    --------------   -----  \n",
      " 0   id        230130 non-null  int64  \n",
      " 1   date      230130 non-null  object \n",
      " 2   country   230130 non-null  object \n",
      " 3   store     230130 non-null  object \n",
      " 4   product   230130 non-null  object \n",
      " 5   num_sold  221259 non-null  float64\n",
      "dtypes: float64(1), int64(1), object(4)\n",
      "memory usage: 10.5+ MB\n",
      "<class 'pandas.core.frame.DataFrame'>\n",
      "RangeIndex: 98550 entries, 0 to 98549\n",
      "Data columns (total 5 columns):\n",
      " #   Column   Non-Null Count  Dtype \n",
      "---  ------   --------------  ----- \n",
      " 0   id       98550 non-null  int64 \n",
      " 1   date     98550 non-null  object\n",
      " 2   country  98550 non-null  object\n",
      " 3   store    98550 non-null  object\n",
      " 4   product  98550 non-null  object\n",
      "dtypes: int64(1), object(4)\n",
      "memory usage: 3.8+ MB\n"
     ]
    }
   ],
   "source": [
    "raw_df.info()\n",
    "test_df.info()"
   ]
  },
  {
   "cell_type": "code",
   "execution_count": 8,
   "id": "5c7ae774-73c0-4c7f-901a-ffc6e8149a59",
   "metadata": {},
   "outputs": [
    {
     "data": {
      "text/html": [
       "<div>\n",
       "<style scoped>\n",
       "    .dataframe tbody tr th:only-of-type {\n",
       "        vertical-align: middle;\n",
       "    }\n",
       "\n",
       "    .dataframe tbody tr th {\n",
       "        vertical-align: top;\n",
       "    }\n",
       "\n",
       "    .dataframe thead th {\n",
       "        text-align: right;\n",
       "    }\n",
       "</style>\n",
       "<table border=\"1\" class=\"dataframe\">\n",
       "  <thead>\n",
       "    <tr style=\"text-align: right;\">\n",
       "      <th></th>\n",
       "      <th>id</th>\n",
       "      <th>date</th>\n",
       "      <th>country</th>\n",
       "      <th>store</th>\n",
       "      <th>product</th>\n",
       "      <th>num_sold</th>\n",
       "    </tr>\n",
       "  </thead>\n",
       "  <tbody>\n",
       "    <tr>\n",
       "      <th>0</th>\n",
       "      <td>0</td>\n",
       "      <td>2010-01-01</td>\n",
       "      <td>Canada</td>\n",
       "      <td>Discount Stickers</td>\n",
       "      <td>Holographic Goose</td>\n",
       "      <td>NaN</td>\n",
       "    </tr>\n",
       "    <tr>\n",
       "      <th>1</th>\n",
       "      <td>1</td>\n",
       "      <td>2010-01-01</td>\n",
       "      <td>Canada</td>\n",
       "      <td>Discount Stickers</td>\n",
       "      <td>Kaggle</td>\n",
       "      <td>973.0</td>\n",
       "    </tr>\n",
       "    <tr>\n",
       "      <th>2</th>\n",
       "      <td>2</td>\n",
       "      <td>2010-01-01</td>\n",
       "      <td>Canada</td>\n",
       "      <td>Discount Stickers</td>\n",
       "      <td>Kaggle Tiers</td>\n",
       "      <td>906.0</td>\n",
       "    </tr>\n",
       "    <tr>\n",
       "      <th>3</th>\n",
       "      <td>3</td>\n",
       "      <td>2010-01-01</td>\n",
       "      <td>Canada</td>\n",
       "      <td>Discount Stickers</td>\n",
       "      <td>Kerneler</td>\n",
       "      <td>423.0</td>\n",
       "    </tr>\n",
       "    <tr>\n",
       "      <th>4</th>\n",
       "      <td>4</td>\n",
       "      <td>2010-01-01</td>\n",
       "      <td>Canada</td>\n",
       "      <td>Discount Stickers</td>\n",
       "      <td>Kerneler Dark Mode</td>\n",
       "      <td>491.0</td>\n",
       "    </tr>\n",
       "  </tbody>\n",
       "</table>\n",
       "</div>"
      ],
      "text/plain": [
       "   id        date country              store             product  num_sold\n",
       "0   0  2010-01-01  Canada  Discount Stickers   Holographic Goose       NaN\n",
       "1   1  2010-01-01  Canada  Discount Stickers              Kaggle     973.0\n",
       "2   2  2010-01-01  Canada  Discount Stickers        Kaggle Tiers     906.0\n",
       "3   3  2010-01-01  Canada  Discount Stickers            Kerneler     423.0\n",
       "4   4  2010-01-01  Canada  Discount Stickers  Kerneler Dark Mode     491.0"
      ]
     },
     "execution_count": 8,
     "metadata": {},
     "output_type": "execute_result"
    }
   ],
   "source": [
    "raw_df.head(5)"
   ]
  },
  {
   "cell_type": "code",
   "execution_count": 10,
   "id": "ab63cc3d-a119-4957-b09f-5c2d95ac7b66",
   "metadata": {},
   "outputs": [
    {
     "data": {
      "text/html": [
       "<div>\n",
       "<style scoped>\n",
       "    .dataframe tbody tr th:only-of-type {\n",
       "        vertical-align: middle;\n",
       "    }\n",
       "\n",
       "    .dataframe tbody tr th {\n",
       "        vertical-align: top;\n",
       "    }\n",
       "\n",
       "    .dataframe thead th {\n",
       "        text-align: right;\n",
       "    }\n",
       "</style>\n",
       "<table border=\"1\" class=\"dataframe\">\n",
       "  <thead>\n",
       "    <tr style=\"text-align: right;\">\n",
       "      <th></th>\n",
       "      <th>id</th>\n",
       "      <th>date</th>\n",
       "      <th>country</th>\n",
       "      <th>store</th>\n",
       "      <th>product</th>\n",
       "    </tr>\n",
       "  </thead>\n",
       "  <tbody>\n",
       "    <tr>\n",
       "      <th>0</th>\n",
       "      <td>230130</td>\n",
       "      <td>2017-01-01</td>\n",
       "      <td>Canada</td>\n",
       "      <td>Discount Stickers</td>\n",
       "      <td>Holographic Goose</td>\n",
       "    </tr>\n",
       "    <tr>\n",
       "      <th>1</th>\n",
       "      <td>230131</td>\n",
       "      <td>2017-01-01</td>\n",
       "      <td>Canada</td>\n",
       "      <td>Discount Stickers</td>\n",
       "      <td>Kaggle</td>\n",
       "    </tr>\n",
       "    <tr>\n",
       "      <th>2</th>\n",
       "      <td>230132</td>\n",
       "      <td>2017-01-01</td>\n",
       "      <td>Canada</td>\n",
       "      <td>Discount Stickers</td>\n",
       "      <td>Kaggle Tiers</td>\n",
       "    </tr>\n",
       "    <tr>\n",
       "      <th>3</th>\n",
       "      <td>230133</td>\n",
       "      <td>2017-01-01</td>\n",
       "      <td>Canada</td>\n",
       "      <td>Discount Stickers</td>\n",
       "      <td>Kerneler</td>\n",
       "    </tr>\n",
       "    <tr>\n",
       "      <th>4</th>\n",
       "      <td>230134</td>\n",
       "      <td>2017-01-01</td>\n",
       "      <td>Canada</td>\n",
       "      <td>Discount Stickers</td>\n",
       "      <td>Kerneler Dark Mode</td>\n",
       "    </tr>\n",
       "  </tbody>\n",
       "</table>\n",
       "</div>"
      ],
      "text/plain": [
       "       id        date country              store             product\n",
       "0  230130  2017-01-01  Canada  Discount Stickers   Holographic Goose\n",
       "1  230131  2017-01-01  Canada  Discount Stickers              Kaggle\n",
       "2  230132  2017-01-01  Canada  Discount Stickers        Kaggle Tiers\n",
       "3  230133  2017-01-01  Canada  Discount Stickers            Kerneler\n",
       "4  230134  2017-01-01  Canada  Discount Stickers  Kerneler Dark Mode"
      ]
     },
     "execution_count": 10,
     "metadata": {},
     "output_type": "execute_result"
    }
   ],
   "source": [
    "test_df.head(5)"
   ]
  },
  {
   "cell_type": "code",
   "execution_count": 12,
   "id": "9404d83e-ee41-4b4d-8f91-52bff934c744",
   "metadata": {},
   "outputs": [
    {
     "data": {
      "text/html": [
       "<div>\n",
       "<style scoped>\n",
       "    .dataframe tbody tr th:only-of-type {\n",
       "        vertical-align: middle;\n",
       "    }\n",
       "\n",
       "    .dataframe tbody tr th {\n",
       "        vertical-align: top;\n",
       "    }\n",
       "\n",
       "    .dataframe thead th {\n",
       "        text-align: right;\n",
       "    }\n",
       "</style>\n",
       "<table border=\"1\" class=\"dataframe\">\n",
       "  <thead>\n",
       "    <tr style=\"text-align: right;\">\n",
       "      <th></th>\n",
       "      <th>id</th>\n",
       "      <th>num_sold</th>\n",
       "    </tr>\n",
       "  </thead>\n",
       "  <tbody>\n",
       "    <tr>\n",
       "      <th>count</th>\n",
       "      <td>230130.000000</td>\n",
       "      <td>221259.000000</td>\n",
       "    </tr>\n",
       "    <tr>\n",
       "      <th>mean</th>\n",
       "      <td>115064.500000</td>\n",
       "      <td>752.527382</td>\n",
       "    </tr>\n",
       "    <tr>\n",
       "      <th>std</th>\n",
       "      <td>66432.953062</td>\n",
       "      <td>690.165445</td>\n",
       "    </tr>\n",
       "    <tr>\n",
       "      <th>min</th>\n",
       "      <td>0.000000</td>\n",
       "      <td>5.000000</td>\n",
       "    </tr>\n",
       "    <tr>\n",
       "      <th>25%</th>\n",
       "      <td>57532.250000</td>\n",
       "      <td>219.000000</td>\n",
       "    </tr>\n",
       "    <tr>\n",
       "      <th>50%</th>\n",
       "      <td>115064.500000</td>\n",
       "      <td>605.000000</td>\n",
       "    </tr>\n",
       "    <tr>\n",
       "      <th>75%</th>\n",
       "      <td>172596.750000</td>\n",
       "      <td>1114.000000</td>\n",
       "    </tr>\n",
       "    <tr>\n",
       "      <th>max</th>\n",
       "      <td>230129.000000</td>\n",
       "      <td>5939.000000</td>\n",
       "    </tr>\n",
       "  </tbody>\n",
       "</table>\n",
       "</div>"
      ],
      "text/plain": [
       "                  id       num_sold\n",
       "count  230130.000000  221259.000000\n",
       "mean   115064.500000     752.527382\n",
       "std     66432.953062     690.165445\n",
       "min         0.000000       5.000000\n",
       "25%     57532.250000     219.000000\n",
       "50%    115064.500000     605.000000\n",
       "75%    172596.750000    1114.000000\n",
       "max    230129.000000    5939.000000"
      ]
     },
     "execution_count": 12,
     "metadata": {},
     "output_type": "execute_result"
    }
   ],
   "source": [
    "raw_df.describe()"
   ]
  },
  {
   "cell_type": "markdown",
   "id": "5b57894f-36bd-4384-b919-a297bd17de5a",
   "metadata": {},
   "source": [
    "Podemos observar que justo nuestra variable a predecir es el numero de ventas `num_sold`"
   ]
  },
  {
   "cell_type": "markdown",
   "id": "26077653-5c9a-45d6-9281-9a9abebe79c3",
   "metadata": {},
   "source": [
    "<a id='c2'></a>\n",
    "# <div style=\"text-align:center; border-radius:15px 15px; padding:15px; color:#333333; margin:0; ; padding:15px; font-size:100%; font:'Verdana'; background-color:#F5F5F5;border: 1px; overflow:hidden\"><b>2. Analisis de datos</b></div>"
   ]
  },
  {
   "cell_type": "code",
   "execution_count": 14,
   "id": "292f3b95-4bf9-49c7-a76a-ee97d7324121",
   "metadata": {},
   "outputs": [
    {
     "data": {
      "text/plain": [
       "id             0\n",
       "date           0\n",
       "country        0\n",
       "store          0\n",
       "product        0\n",
       "num_sold    8871\n",
       "dtype: int64"
      ]
     },
     "execution_count": 14,
     "metadata": {},
     "output_type": "execute_result"
    }
   ],
   "source": [
    "valores_faltantes = raw_df.isnull().sum()\n",
    "valores_faltantes"
   ]
  },
  {
   "cell_type": "code",
   "execution_count": 16,
   "id": "404fcbc1-0561-40e4-a3eb-6dba2b697028",
   "metadata": {},
   "outputs": [
    {
     "data": {
      "text/plain": [
       "count    221259.000000\n",
       "mean        752.527382\n",
       "std         690.165445\n",
       "min           5.000000\n",
       "25%         219.000000\n",
       "50%         605.000000\n",
       "75%        1114.000000\n",
       "max        5939.000000\n",
       "Name: num_sold, dtype: float64"
      ]
     },
     "execution_count": 16,
     "metadata": {},
     "output_type": "execute_result"
    }
   ],
   "source": [
    "raw_df['num_sold'].describe()"
   ]
  },
  {
   "cell_type": "markdown",
   "id": "b12bf1c1-3dd5-41c1-b55f-8cf5a007e205",
   "metadata": {},
   "source": [
    "<a id='c2.1'></a>\n",
    "<div style=\"text-align:center; border-radius:15px; padding:15px; color:#333333; margin:0; font-size:150%; font:'Verdana'; background: #F5F5F5; background: #E8E8E8; border: 1px solid #CCCCCC; box-shadow: 0px 4px 8px rgba(0, 0, 0, 0.2); overflow:hidden;\"><b>2.1. Date</b>\n",
    "</div>"
   ]
  },
  {
   "cell_type": "code",
   "execution_count": 19,
   "id": "49fac332-0416-4d34-b80e-3bc5e8bd6fab",
   "metadata": {},
   "outputs": [],
   "source": [
    "raw_df['date']= pd.to_datetime(raw_df['date'])\n",
    "test_df['date']= pd.to_datetime(test_df['date'])"
   ]
  },
  {
   "cell_type": "code",
   "execution_count": 21,
   "id": "6c669271-52a6-46e2-955a-9907cce6f8e8",
   "metadata": {},
   "outputs": [],
   "source": [
    "def add_dateparts(df,col):\n",
    "    df[col + '_year'] = df[col].dt.year\n",
    "    df[col + '_month'] = df[col].dt.month\n",
    "    df[col + '_day'] = df[col].dt.day\n",
    "    df[col + '_nameday'] = df[col].dt.day_name()\n",
    "add_dateparts(raw_df, \"date\")\n",
    "add_dateparts(test_df, \"date\")"
   ]
  },
  {
   "cell_type": "code",
   "execution_count": 23,
   "id": "a6727551-9b82-4197-94b8-59a86489bf86",
   "metadata": {},
   "outputs": [
    {
     "data": {
      "text/html": [
       "<div>\n",
       "<style scoped>\n",
       "    .dataframe tbody tr th:only-of-type {\n",
       "        vertical-align: middle;\n",
       "    }\n",
       "\n",
       "    .dataframe tbody tr th {\n",
       "        vertical-align: top;\n",
       "    }\n",
       "\n",
       "    .dataframe thead th {\n",
       "        text-align: right;\n",
       "    }\n",
       "</style>\n",
       "<table border=\"1\" class=\"dataframe\">\n",
       "  <thead>\n",
       "    <tr style=\"text-align: right;\">\n",
       "      <th></th>\n",
       "      <th>id</th>\n",
       "      <th>date</th>\n",
       "      <th>country</th>\n",
       "      <th>store</th>\n",
       "      <th>product</th>\n",
       "      <th>num_sold</th>\n",
       "      <th>date_year</th>\n",
       "      <th>date_month</th>\n",
       "      <th>date_day</th>\n",
       "      <th>date_nameday</th>\n",
       "    </tr>\n",
       "  </thead>\n",
       "  <tbody>\n",
       "    <tr>\n",
       "      <th>0</th>\n",
       "      <td>0</td>\n",
       "      <td>2010-01-01</td>\n",
       "      <td>Canada</td>\n",
       "      <td>Discount Stickers</td>\n",
       "      <td>Holographic Goose</td>\n",
       "      <td>NaN</td>\n",
       "      <td>2010</td>\n",
       "      <td>1</td>\n",
       "      <td>1</td>\n",
       "      <td>Friday</td>\n",
       "    </tr>\n",
       "    <tr>\n",
       "      <th>1</th>\n",
       "      <td>1</td>\n",
       "      <td>2010-01-01</td>\n",
       "      <td>Canada</td>\n",
       "      <td>Discount Stickers</td>\n",
       "      <td>Kaggle</td>\n",
       "      <td>973.0</td>\n",
       "      <td>2010</td>\n",
       "      <td>1</td>\n",
       "      <td>1</td>\n",
       "      <td>Friday</td>\n",
       "    </tr>\n",
       "    <tr>\n",
       "      <th>2</th>\n",
       "      <td>2</td>\n",
       "      <td>2010-01-01</td>\n",
       "      <td>Canada</td>\n",
       "      <td>Discount Stickers</td>\n",
       "      <td>Kaggle Tiers</td>\n",
       "      <td>906.0</td>\n",
       "      <td>2010</td>\n",
       "      <td>1</td>\n",
       "      <td>1</td>\n",
       "      <td>Friday</td>\n",
       "    </tr>\n",
       "    <tr>\n",
       "      <th>3</th>\n",
       "      <td>3</td>\n",
       "      <td>2010-01-01</td>\n",
       "      <td>Canada</td>\n",
       "      <td>Discount Stickers</td>\n",
       "      <td>Kerneler</td>\n",
       "      <td>423.0</td>\n",
       "      <td>2010</td>\n",
       "      <td>1</td>\n",
       "      <td>1</td>\n",
       "      <td>Friday</td>\n",
       "    </tr>\n",
       "    <tr>\n",
       "      <th>4</th>\n",
       "      <td>4</td>\n",
       "      <td>2010-01-01</td>\n",
       "      <td>Canada</td>\n",
       "      <td>Discount Stickers</td>\n",
       "      <td>Kerneler Dark Mode</td>\n",
       "      <td>491.0</td>\n",
       "      <td>2010</td>\n",
       "      <td>1</td>\n",
       "      <td>1</td>\n",
       "      <td>Friday</td>\n",
       "    </tr>\n",
       "  </tbody>\n",
       "</table>\n",
       "</div>"
      ],
      "text/plain": [
       "   id       date country              store             product  num_sold  \\\n",
       "0   0 2010-01-01  Canada  Discount Stickers   Holographic Goose       NaN   \n",
       "1   1 2010-01-01  Canada  Discount Stickers              Kaggle     973.0   \n",
       "2   2 2010-01-01  Canada  Discount Stickers        Kaggle Tiers     906.0   \n",
       "3   3 2010-01-01  Canada  Discount Stickers            Kerneler     423.0   \n",
       "4   4 2010-01-01  Canada  Discount Stickers  Kerneler Dark Mode     491.0   \n",
       "\n",
       "   date_year  date_month  date_day date_nameday  \n",
       "0       2010           1         1       Friday  \n",
       "1       2010           1         1       Friday  \n",
       "2       2010           1         1       Friday  \n",
       "3       2010           1         1       Friday  \n",
       "4       2010           1         1       Friday  "
      ]
     },
     "execution_count": 23,
     "metadata": {},
     "output_type": "execute_result"
    }
   ],
   "source": [
    "raw_df.head(5)"
   ]
  },
  {
   "cell_type": "code",
   "execution_count": null,
   "id": "294df6ce-1dd4-48bd-9e4f-a73bb7ae5dbc",
   "metadata": {},
   "outputs": [],
   "source": [
    "test_df.head(5)"
   ]
  },
  {
   "cell_type": "code",
   "execution_count": null,
   "id": "91c4afe3-6901-4be0-bc78-9eb0286e771c",
   "metadata": {},
   "outputs": [],
   "source": [
    "fig = px.histogram(raw_df, \n",
    "             x= 'date_nameday', \n",
    "             y = 'num_sold', \n",
    "             color='date_nameday', \n",
    "             color_discrete_sequence=px.colors.sequential.Aggrnyl)\n",
    "fig.update_layout(\n",
    "    title=\"Ventas por día de la semana\",\n",
    "    xaxis_title=\"Día de la semana\",\n",
    "    yaxis_title=\"Cantidad vendida\",\n",
    "    bargap=0.2  \n",
    ")"
   ]
  },
  {
   "cell_type": "markdown",
   "id": "3ca27648-d0b4-461a-9876-443983cf4d76",
   "metadata": {},
   "source": [
    "Este gráfico de barras ilustra la distribución total de ventas por día de la semana, donde el día con mayor número de ventas es el domingo, con un total de 22.82736 millones, mientras que el día con menor número de ventas es el lunes, con un monto total de 22.39993 millones. De igual forma, se puede apreciar que el número de ventas aumenta durante los fines de semana, lo que sugiere que, en nuestro modelo de predicción, las ventas realizadas en estos días deberían tener un mayor peso para predecir el número de ventas totales."
   ]
  },
  {
   "cell_type": "code",
   "execution_count": null,
   "id": "ca745ad7-96a3-461b-b643-bce991f1fd2e",
   "metadata": {},
   "outputs": [],
   "source": [
    "fig = px.histogram(raw_df, \n",
    "             x= 'date_day', \n",
    "             y = 'num_sold', \n",
    "             color='date_month', \n",
    "             color_discrete_sequence=px.colors.sequential.Aggrnyl)\n",
    "fig.update_layout(\n",
    "    title=\"Ventas por día de mes\",\n",
    "    xaxis_title=\"Día del mes\",\n",
    "    yaxis_title=\"Cantidad vendida\",\n",
    "    bargap=0.2  \n",
    ")"
   ]
  },
  {
   "cell_type": "markdown",
   "id": "a0c0fec5-4b28-4d7e-bcde-bb37625ea0dd",
   "metadata": {},
   "source": [
    "En este otro gráfico se muestra la distribución de ventas por día del mes, donde se observa que se mantienen bastante uniformes, con la excepción de fin de mes, en el que se nota una drástica disminución de las ventas el día 31. Asimismo, se muestra por color las ventas en cada mes, donde se aprecia que las ventas bajas registradas los días 31 se deben a que solo 7 meses cuentan con este número de días. Aunque es cierto que los días 29 y 30 también tienen un menor número de ventas, a pesar de que 12 meses incluyen estos días. Habrá que estudiar las cantidades para auqellos mese que solo contienen 31 dias y ver su distribución. "
   ]
  },
  {
   "cell_type": "code",
   "execution_count": null,
   "id": "6f13e045-d56c-41e0-84b0-e548087a53af",
   "metadata": {},
   "outputs": [],
   "source": [
    "fig = px.histogram(raw_df, \n",
    "             x= 'date_month', \n",
    "             y = 'num_sold', \n",
    "             color='date_month', \n",
    "             color_discrete_sequence=px.colors.sequential.Aggrnyl\n",
    "                  )\n",
    "fig.update_layout(\n",
    "    title=\"Ventas por mes\",\n",
    "    xaxis_title=\"Mes\",\n",
    "    yaxis_title=\"Cantidad vendida\",\n",
    "    bargap=0.2  # Espacio entre las barras\n",
    ")"
   ]
  },
  {
   "cell_type": "markdown",
   "id": "bb5f6015-a9d2-48c4-9e65-40853948704e",
   "metadata": {},
   "source": [
    "Este gráfico muestra la distribución de ventas por mes, donde se aprecia que los meses con mayor número de ventas corresponden a diciembre y enero, con un total de 14.75278 millones y 14.48022 millones, respectivamente. Este incremento en las ventas durante estos meses podría estar relacionado con la temporada de festividades, como Navidad y Año Nuevo, periodos en los que tradicionalmente aumenta el consumo. Por otro lado el mes con menor numero de ventas es febrero con número total de 12.90415 millones."
   ]
  },
  {
   "cell_type": "code",
   "execution_count": null,
   "id": "9c44285b-3c22-43a8-8c4d-fecf00c59e5f",
   "metadata": {},
   "outputs": [],
   "source": [
    "fig = px.histogram(raw_df, \n",
    "             x= 'date_year', \n",
    "             y = 'num_sold', \n",
    "             color='product', \n",
    "             color_discrete_sequence=px.colors.sequential.Aggrnyl)\n",
    "fig.update_layout(\n",
    "    title=\"Ventas por año\",\n",
    "    xaxis_title=\"Año\",\n",
    "    yaxis_title=\"Cantidad vendida\",\n",
    "    bargap=0.2 \n",
    ")"
   ]
  },
  {
   "cell_type": "markdown",
   "id": "b2f6008f-b328-4393-932c-7e123d37bc70",
   "metadata": {},
   "source": [
    "Este gráfico de barras muestra la distribución de ventas por año, diferenciado por colores que representan el número de ventas de cada producto. Se observa que el mayor número de ventas ocurrió en el año 2011, mientras que el año con menor volumen de ventas fue el 2016. La separación por colores permite visualizar que la distribución de ventas por producto se mantiene relativamente constante a lo largo de los años, lo que descarta la posibilidad de que algún producto esté siendo consumido en menor cantidad con el paso del tiempo. Esto sugiere que, aunque existen fluctuaciones en el volumen total de ventas anuales, la preferencia por los productos se mantiene estable, lo que podría indicar que factores externos, como condiciones económicas o cambios en el mercado, influyen más en las ventas totales que en la elección de los productos por parte de los consumidores. Este análisis refuerza la importancia de estudiar variables macroeconómicas y estrategias de marketing para comprender mejor las tendencias de ventas a lo largo del tiempo."
   ]
  },
  {
   "cell_type": "markdown",
   "id": "ed70d359-09cc-4642-8948-93b78c46964e",
   "metadata": {},
   "source": [
    "<a id='c2.2'></a>\n",
    "<div style=\"text-align:center; border-radius:15px; padding:15px; color:#333333; margin:0; font-size:150%; font:'Verdana'; background: #F5F5F5; background: #E8E8E8; border: 1px solid #CCCCCC; box-shadow: 0px 4px 8px rgba(0, 0, 0, 0.2); overflow:hidden;\"><b>2.2. Country</b>\n",
    "</div>"
   ]
  },
  {
   "cell_type": "code",
   "execution_count": null,
   "id": "080ddb3e-63ff-4c8e-a015-6015fa5b99e0",
   "metadata": {},
   "outputs": [],
   "source": [
    "fig = px.histogram(raw_df, \n",
    "             x= 'country', \n",
    "             y = 'num_sold', \n",
    "             color='country', \n",
    "             color_discrete_sequence=px.colors.sequential.Aggrnyl)\n",
    "fig.update_layout(\n",
    "    title=\"Ventas por país\",\n",
    "    xaxis_title=\"País\",\n",
    "    yaxis_title=\"Cantidad vendida\",\n",
    "    bargap=0.2  \n",
    ")"
   ]
  },
  {
   "cell_type": "markdown",
   "id": "995e3948-cc47-4a12-ae93-787ce8047ffe",
   "metadata": {},
   "source": [
    "Este gráfico de barras muestra la cantidad de ventas totales por país, destacando claramente que Kenia es el país con el menor volumen de ventas, registrando un total de 689.141 mil, una cifra que contrasta significativamente con los 54.56231 millones de Noruega, el país con mayor número de ventas. Esta marcada diferencia podría deberse a diversos factores, como diferencias en el poder adquisitivo, hábitos de consumo, penetración de mercado o incluso aspectos culturales y geográficos. Para abordar esta brecha, sería recomendable realizar estudios de mercado más profundos que permitan identificar las barreras específicas en Kenia y desarrollar estrategias de marketing adaptadas a las necesidades y características de ese mercado."
   ]
  },
  {
   "cell_type": "code",
   "execution_count": null,
   "id": "86e88ea3-68ad-4adf-80ea-e96b6c26366b",
   "metadata": {},
   "outputs": [],
   "source": [
    "fig = px.box(raw_df, \n",
    "             x= 'country', \n",
    "             y = 'num_sold', \n",
    "             color='country', \n",
    "             color_discrete_sequence=px.colors.sequential.Aggrnyl)\n",
    "fig.update_layout(\n",
    "    title=\"Diagrama de caja por país\",\n",
    "    xaxis_title=\"País\",\n",
    "    yaxis_title=\"Cantidad vendida\",\n",
    "    bargap=0.2  \n",
    ")"
   ]
  },
  {
   "cell_type": "markdown",
   "id": "cfae1ecf-bb29-401f-869a-ddc6649a403e",
   "metadata": {},
   "source": [
    "En estos diagramas de caja se muestra la distribución de las ventas por país, así como las medias de la cantidad vendida al cliente, las cuales varían significativamente dependiendo del país. Los valores medios son los siguientes:\n",
    "- Canada: 731\n",
    "- Finlandia: 665\n",
    "- Italia: 480\n",
    "- Kenia: 18\n",
    "- Noruega: 1261\n",
    "- Singapur: 772\n",
    "\n",
    "Estos datos reflejan diferencias notables en el comportamiento de compra entre los países, destacando Noruega como el país con el mayor promedio de ventas por cliente, mientras que Kenia registra el valor más bajo. Además, se pueden apreciar varios valores atípicos en la distribución de ventas, los cuales podrían distorsionar los análisis y modelos predictivos. Por ello, para futuros entrenamientos de modelos, se recomienda remover estos valores atípicos con el fin de obtener resultados más precisos y representativos. Esta limpieza de datos permitirá mejorar la calidad de las predicciones y optimizar las estrategias de ventas adaptadas a cada mercado."
   ]
  },
  {
   "cell_type": "markdown",
   "id": "1c4e29b2-b63c-4af2-bb5e-c13e0bed9c92",
   "metadata": {},
   "source": [
    "<a id='c2.3'></a>\n",
    "<div style=\"text-align:center; border-radius:15px; padding:15px; color:#333333; margin:0; font-size:150%; font:'Verdana'; background: #F5F5F5; background: #E8E8E8; border: 1px solid #CCCCCC; box-shadow: 0px 4px 8px rgba(0, 0, 0, 0.2); overflow:hidden;\"><b>2.3. Store</b>\n",
    "</div>"
   ]
  },
  {
   "cell_type": "code",
   "execution_count": null,
   "id": "1c09a5fd-5c74-4ead-96cd-2bed4fd0342a",
   "metadata": {},
   "outputs": [],
   "source": [
    "fig = px.histogram(raw_df, \n",
    "             x= 'store', \n",
    "             y = 'num_sold', \n",
    "             color='product', \n",
    "             color_discrete_sequence=px.colors.sequential.Aggrnyl)\n",
    "fig.update_layout(\n",
    "    title=\"Ventas por tienda\",\n",
    "    xaxis_title=\"Tienda\",\n",
    "    yaxis_title=\"Cantidad vendida\",\n",
    "    bargap=0.2  \n",
    ")"
   ]
  },
  {
   "cell_type": "markdown",
   "id": "5352bbad-4600-4abe-bcf9-3a5833aea4c0",
   "metadata": {},
   "source": [
    "Este gráfico de barras muestra la cantidad de ventas por tienda, diferenciado por colores que representan cada producto. Es evidente que la tienda con mayor número de ventas es *Premium Sticker Mart*, mientras que la tienda con menor número de ventas es *Discount Stickers*. La distribución de colores en cada barra sugiere que la proporción de ventas por producto es similar en todas las tiendas lo que indica un comportamiento de consumo consistente a nivel de producto. Esto podría deberse a factores como la popularidad de la marca, la calidad de los productos o las estrategias de marketing implementadas por Premium Sticker Mart. Por otro lado, el bajo desempeño de Discount Stickers podría estar relacionado con su posicionamiento en el mercado, la percepción de su calidad o la falta de promociones efectivas. "
   ]
  },
  {
   "cell_type": "code",
   "execution_count": null,
   "id": "098f1d78-035c-489b-9144-5882d254279e",
   "metadata": {},
   "outputs": [],
   "source": [
    "fig = px.box(raw_df, \n",
    "             x= 'store', \n",
    "             y = 'num_sold', \n",
    "             color='store', \n",
    "             color_discrete_sequence=px.colors.sequential.Aggrnyl)\n",
    "fig.update_layout(\n",
    "    title=\"Diagrama de caja por tienda\",\n",
    "    xaxis_title=\"Tienda\",\n",
    "    yaxis_title=\"Cantidad vendida\",\n",
    "    bargap=0.2  \n",
    ")"
   ]
  },
  {
   "cell_type": "markdown",
   "id": "4f11812a-daf6-44e5-a97f-1c4e5478487b",
   "metadata": {},
   "source": [
    "En estos diagramas de caja se muestra la distribución de las ventas por tienda, así como las medianas de cantidad vendida al cliente, las cuales varían significativamente dependiendo de la tienda. Los valores medios son los siguientes:\n",
    "\n",
    "- Discount Stickers:\n",
    "- Finlandia: 380\n",
    "- Sticker for Less: 744\n",
    "- Premium Sticker Mart: 859\n",
    "\n",
    "Estos datos reflejan diferencias notables en el comportamiento de compra por tienda, destacando a Premium Sticker Mart como la tienda con el mayor promedio de ventas por cliente, mientras que Discount Stickers registra el valor más bajo. Esta disparidad podría deberse a factores como el posicionamiento de la marca, la calidad percibida de los productos, las estrategias de precios o la experiencia del cliente. Además, se observan varios valores atípicos en la distribución de ventas, los cuales podrían afectar la precisión de los análisis y modelos predictivos. Por ello, se recomienda remover estos valores atípicos para garantizar un futuro modelo más eficiente y representativo."
   ]
  },
  {
   "cell_type": "markdown",
   "id": "5c42101f-fccd-4afb-856d-dfa08a33023d",
   "metadata": {},
   "source": [
    "<a id='c2.4'></a>\n",
    "<div style=\"text-align:center; border-radius:15px; padding:15px; color:#333333; margin:0; font-size:150%; font:'Verdana'; background: #F5F5F5; background: #E8E8E8; border: 1px solid #CCCCCC; box-shadow: 0px 4px 8px rgba(0, 0, 0, 0.2); overflow:hidden;\"><b>2.4. Product</b>\n",
    "</div>"
   ]
  },
  {
   "cell_type": "code",
   "execution_count": null,
   "id": "cf78588f-9925-4453-a67c-a1b9f35e3df0",
   "metadata": {},
   "outputs": [],
   "source": [
    "fig = px.histogram(raw_df, \n",
    "             x= 'product', \n",
    "             y = 'num_sold', \n",
    "             color='country', \n",
    "             color_discrete_sequence=px.colors.sequential.Aggrnyl)\n",
    "fig.update_layout(\n",
    "    title=\"Ventas de productos\",\n",
    "    xaxis_title=\"Producto\",\n",
    "    yaxis_title=\"Cantidad vendida\",\n",
    "    bargap=0.2  \n",
    ")"
   ]
  },
  {
   "cell_type": "markdown",
   "id": "f7eecf7b-c456-42a3-a745-d9cd810f429f",
   "metadata": {},
   "source": [
    "Aquí tenemos un diagrama de barras que muestra la cantidad de ventas por producto, diferenciado por colores que representan cada país. Se observa que Kaggle es el producto más vendido, mientras que Holographic Goose es el que registra el menor número de ventas. Este comportamiento sugiere que la preferencia por ciertos productos es consistente en todos los países, descartando la posibilidad de que un producto se venda más o menos dependiendo de la ubicación geográfica. Esto podría indicar que factores como la popularidad del producto, su utilidad o su atractivo visual tienen un impacto global, independientemente del mercado específico. Sin embargo, sería recomendable realizar un análisis más profundo para identificar si existen diferencias sutiles en la demanda por país que no son evidentes en este gráfico."
   ]
  },
  {
   "cell_type": "code",
   "execution_count": null,
   "id": "adef9cbf-1c09-453a-a4d0-fecf9ece7f54",
   "metadata": {},
   "outputs": [],
   "source": [
    "fig = px.box(raw_df, \n",
    "             x= 'product', \n",
    "             y = 'num_sold', \n",
    "             color='product', \n",
    "             color_discrete_sequence=px.colors.sequential.Aggrnyl)\n",
    "fig.update_layout(\n",
    "    title=\"Diagrama de caja por producto\",\n",
    "    xaxis_title=\"Producto\",\n",
    "    yaxis_title=\"Cantidad vendida\",\n",
    "    bargap=0.2  \n",
    ")"
   ]
  },
  {
   "cell_type": "markdown",
   "id": "6a2dd1eb-911b-4269-905c-1e5671daa4b8",
   "metadata": {},
   "source": [
    "Finalmente, realizamos un diagrama de caja para evidenciar la mediana de ventas de cada producto, así como los valores atípicos que serán de vital importancia para el entrenamiento de nuestro modelo. Las medias de ventas de cada producto son las siguientes:\n",
    "- Holographic Goose: 192\n",
    "- Kaggle: 1215\n",
    "- Kaggle Tiers: 1007 \n",
    "- Kerneler: 537\n",
    "- Kerneler Dark Mode: 617\n",
    "Estos datos muestran una clara diferencia en el desempeño de cada producto, destacando Kaggle como el producto con mayor número de ventas promedio, mientras que Holographic Goose registra el valor más bajo. Además, el diagrama de caja permite identificar la presencia de valores atípicos en la distribución de ventas, los cuales podrían distorsionar los resultados del modelo si no se manejan adecuadamente."
   ]
  },
  {
   "cell_type": "markdown",
   "id": "58821a94-be47-4d05-aa7a-aa21e0bd72d8",
   "metadata": {},
   "source": [
    "<a id='c3'></a>\n",
    "<div style=\"text-align:center; border-radius:15px; padding:15px; color:#333333; margin:0; font-size:150%; font:'Verdana'; background: #F5F5F5; background: #E8E8E8; border: 1px solid #CCCCCC; box-shadow: 0px 4px 8px rgba(0, 0, 0, 0.2); overflow:hidden;\"><b>3. Limpieza y procesamiento de datos</b>\n",
    "</div>"
   ]
  },
  {
   "cell_type": "markdown",
   "id": "df4b9341-49c5-40fe-a1a9-5eba30e3f4c7",
   "metadata": {},
   "source": [
    "A los valores faltantes los imputaremos por el promedio del numero de ventas"
   ]
  },
  {
   "cell_type": "code",
   "execution_count": null,
   "id": "bcae1156-fc3f-40ec-9fca-896cfee100ec",
   "metadata": {},
   "outputs": [],
   "source": [
    "train_clean_df= raw_df.fillna(raw_df.num_sold.mean())\n",
    "\n",
    "train_clean_df.isna().sum()"
   ]
  },
  {
   "cell_type": "markdown",
   "id": "671d678d-2ea7-4368-95f1-3a81b5e69da5",
   "metadata": {},
   "source": [
    "Vemos que existen varios outliers para cada numero de stickers vendidos en diferentes paises, existiendo una gran cantidad de ellos en Norway. Por otro lado para los valores en tienda y producto existen tambien una gran cantidad de outliers. Limpiaremos mas adelante estos datos.\n",
    "\n",
    "Removiendo los outliers que nos muestran los boxplots anteriores"
   ]
  },
  {
   "cell_type": "code",
   "execution_count": null,
   "id": "f931a6f7-a3bd-4560-ba0b-082061e7d520",
   "metadata": {},
   "outputs": [],
   "source": [
    "outliers = train_clean_df[\n",
    "### Outliers de paises\n",
    "(((train_clean_df['country']=='Canada') & (train_clean_df['num_sold']>=2274))|\n",
    "((train_clean_df['country']=='Norway') & (train_clean_df['num_sold']>=2047))|\n",
    "((train_clean_df['country']=='Finland') & (train_clean_df['num_sold']>=2286))|\n",
    "((train_clean_df['country']=='Singapore') & (train_clean_df['num_sold']>=2610))|\n",
    "((train_clean_df['country']=='Italy') & (train_clean_df['num_sold']>=1652)))|\n",
    "###Outliers de productos\n",
    "(((train_clean_df['product']=='Kaggle') & (train_clean_df['num_sold']>=3250))|\n",
    "((train_clean_df['product']=='Kaggle Tiers') & (train_clean_df['num_sold']>=2681))|\n",
    "((train_clean_df['product']=='Kerneler') & (train_clean_df['num_sold']>=1490))|\n",
    "((train_clean_df['product']=='Kerneler Dark Mode') & (train_clean_df['num_sold']>=1768))|\n",
    "((train_clean_df['product']=='Holographic Goose') & (train_clean_df['num_sold']>=463)))|\n",
    "###Outliers de tiendas\n",
    "(((train_clean_df['store']=='Discount Stickers') & (train_clean_df['num_sold']>=1347))|\n",
    "((train_clean_df['store']=='Stickers for Less') & (train_clean_df['num_sold']>=2766))|\n",
    "((train_clean_df['store']=='Premium Sticker Mart') & (train_clean_df['num_sold']>=3265)))\n",
    "]"
   ]
  },
  {
   "cell_type": "code",
   "execution_count": null,
   "id": "df491b62-410f-49a9-ad8d-80cf9a87ae29",
   "metadata": {},
   "outputs": [],
   "source": [
    "indices_a_eliminar = outliers.index\n",
    "train_clean_df = train_clean_df.drop(indices_a_eliminar)"
   ]
  },
  {
   "cell_type": "code",
   "execution_count": null,
   "id": "23005aca-8820-451c-ab25-ca637f0d1f6c",
   "metadata": {},
   "outputs": [],
   "source": [
    "#1. Dividimos el train_clean_df en 2 conjuntos, uno de entrenamiento y otro de validacion, \n",
    "# dejando el orden de las fechas cronologicamente pues deseamos hacer predicciones a futuro\n",
    "train_df, val_df = train_test_split(train_clean_df, test_size = 0.2, shuffle = False)\n",
    "\n",
    "#2. Definimos las columnas que seran nuestras variables y nuestra columna objetivo\n",
    "input_cols = ['country', 'store', 'product', 'date_year', 'date_month', 'date_day', 'date_nameday']\n",
    "target_col = 'num_sold'\n",
    "\n",
    "#3. Separamos las columnas de acuerdo al objetivo, si son target o input.\n",
    "train_inputs, train_targets = train_df[input_cols], train_df[target_col]\n",
    "val_inputs, val_targets = val_df[input_cols], val_df[target_col]\n",
    "test_inputs = test_df[input_cols]\n",
    "\n",
    "#4 Identificamos la columnas numericas y categoricas para ocupar OneHotEncoding adecuadamente\n",
    "numerical_cols = ['date_day']\n",
    "categorical_cols = ['country', 'store', 'product', 'date_year', 'date_month', 'date_nameday']\n",
    "\n",
    "#5. Codificamos las columnas categoricas\n",
    "encoder = OneHotEncoder(sparse_output=False, handle_unknown='ignore').fit(train_inputs[categorical_cols])\n",
    "encoded_cols = list(encoder.get_feature_names_out(categorical_cols))\n",
    "\n",
    "train_inputs[encoded_cols] = encoder.transform(train_inputs[categorical_cols])\n",
    "val_inputs[encoded_cols] = encoder.transform(val_inputs[categorical_cols])\n",
    "test_inputs[encoded_cols] = encoder.transform(test_inputs[categorical_cols])\n",
    "\n",
    "#6. Nombramos los conjuntos que ocuparemos para entrenar, validar y probar nuestro modelo\n",
    "X_train = train_inputs[encoded_cols + numerical_cols]\n",
    "X_val = val_inputs[encoded_cols + numerical_cols]\n",
    "X_test = test_inputs[encoded_cols + numerical_cols]"
   ]
  },
  {
   "cell_type": "markdown",
   "id": "d4567f78-a176-4e86-9485-8ac69cc21a6b",
   "metadata": {},
   "source": [
    "<a id='c3'></a>\n",
    "# <div style=\"text-align:center; border-radius:15px 15px; padding:15px; color:#333333; margin:0; ; padding:15px; font-size:100%; font:'Verdana'; background-color:#F5F5F5;border: 1px; overflow:hidden\"><b> 4. Construcción del modelo </b></div>"
   ]
  },
  {
   "cell_type": "markdown",
   "id": "80a07bc5-7ecf-4a75-a8f9-9d625a71668f",
   "metadata": {},
   "source": [
    "Ocuparemos diferentes tipos de modelos y ajustaremos los parametros para aquellos que presenten mejor precision de datos "
   ]
  },
  {
   "cell_type": "code",
   "execution_count": null,
   "id": "1f17efc6-e765-412b-ac46-94d4f8168ca3",
   "metadata": {},
   "outputs": [],
   "source": [
    "def testing_model(model, name):\n",
    "\n",
    "    model.fit(X_train, train_targets)\n",
    "    train_preds = model.predict(X_train)\n",
    "    val_preds = model.predict(X_val)\n",
    "    \n",
    "    train_rmse = np.sqrt(mean_squared_error(train_targets, train_preds))\n",
    "    val_rmse = np.sqrt(mean_squared_error(val_targets, val_preds))\n",
    "    score_train = model.score(X_train, train_targets)\n",
    "    score_val = model.score(X_val, val_targets)\n",
    "\n",
    "    print(f\"{name}\\n\"\n",
    "      f\"Métricas de entrenamiento:\\n\"\n",
    "      f\"  - Mean Squared Error: {train_rmse}\\n\"\n",
    "      f\"  - Score R²: {score_train}\\n\"\n",
    "      f\"Métricas de validación:\\n\"\n",
    "      f\"  - Mean Squared Error: {val_rmse}\\n\"\n",
    "      f\"  - Score R²: {score_val}\")\n"
   ]
  },
  {
   "cell_type": "code",
   "execution_count": null,
   "id": "7c183c47-ed5c-43c4-bb08-5489cb0e12b5",
   "metadata": {},
   "outputs": [],
   "source": [
    "def weights_model(model):\n",
    "    #Ajustamos el modelo\n",
    "    model.fit(X_train, train_targets)\n",
    "    #Creamos el DataFrame con los pesos\n",
    "    weights_df = pd.DataFrame({\n",
    "         'feature': np.append(X_train.columns,+1),\n",
    "         'weight': np.append(model.coef_, model.intercept_)})\n",
    "    #Ordenamos el df y  lo graficamos\n",
    "    weights_sort=weights_df.sort_values('weight', ascending=True)\n",
    "    fig = px.histogram(weights_sort, \n",
    "             x= 'weight', \n",
    "             y = 'feature', \n",
    "             #color='feature', \n",
    "             color_discrete_sequence=px.colors.sequential.Aggrnyl)                       \n",
    "    fig.update_layout(\n",
    "        title=\"Importancia de las caracteristicas\",\n",
    "        bargap=0.2  \n",
    "        )    \n",
    "    return fig"
   ]
  },
  {
   "cell_type": "code",
   "execution_count": null,
   "id": "93ea1309-bb4d-415d-a6a8-3373226f1047",
   "metadata": {},
   "outputs": [],
   "source": [
    "def importance_feature(model):\n",
    "    #Ajustamos el modelo\n",
    "    model.fit(X_train, train_targets)\n",
    "    #Creamos el DataFrame con los pesos\n",
    "    weights_df = pd.DataFrame({\n",
    "         'feature': X_train.columns,\n",
    "         'weight': model.feature_importances_})\n",
    "    #Ordenamos el df y  lo graficamos\n",
    "    weights_sort=weights_df.sort_values('weight', ascending=True)\n",
    "    fig = px.bar(weights_sort, \n",
    "             x= 'weight', \n",
    "             y = 'feature', \n",
    "             #color='feature', \n",
    "             color_discrete_sequence=px.colors.sequential.Aggrnyl)                       \n",
    "    fig.update_layout(\n",
    "        title=\"Importancia de las caracteristicas\",\n",
    "        bargap=0.2  \n",
    "        )    \n",
    "    return fig"
   ]
  },
  {
   "cell_type": "markdown",
   "id": "478a2e34-a81d-4868-b94b-76b7ba633dc1",
   "metadata": {},
   "source": [
    "<a id='c5'></a>\n",
    "# <div style=\"text-align:center; border-radius:15px 15px; padding:15px; color:#333333; margin:0; ; padding:15px; font-size:100%; font:'Verdana'; background-color:#F5F5F5;border: 1px; overflow:hidden\"><b> 5. Evaluación de modelos y ajuste de hiperparametros </b></div>"
   ]
  },
  {
   "cell_type": "markdown",
   "id": "1664b84e-8a68-4630-9502-020762847e73",
   "metadata": {},
   "source": [
    "## Regresion lineal"
   ]
  },
  {
   "cell_type": "code",
   "execution_count": null,
   "id": "a0b50f96-5a70-4dff-ad1f-50a0b7da2f8a",
   "metadata": {},
   "outputs": [],
   "source": [
    "%%time\n",
    "testing_model(LinearRegression(), 'Regresion Lineal')"
   ]
  },
  {
   "cell_type": "code",
   "execution_count": null,
   "id": "10834cdc-e371-4e90-91e2-81adcf03c99f",
   "metadata": {},
   "outputs": [],
   "source": [
    "weights_model(LinearRegression())"
   ]
  },
  {
   "cell_type": "markdown",
   "id": "30d8eeb1-4e36-4ff6-94c7-3ccb852b175b",
   "metadata": {},
   "source": [
    "## Regresión de Ridge"
   ]
  },
  {
   "cell_type": "code",
   "execution_count": null,
   "id": "1e40d2de-bf48-46de-adb4-335ac16c6272",
   "metadata": {},
   "outputs": [],
   "source": [
    "%%time\n",
    "testing_model(Ridge(), 'Ridge')"
   ]
  },
  {
   "cell_type": "code",
   "execution_count": null,
   "id": "45ddbc28-de56-4f3c-a4f6-a27dde748c93",
   "metadata": {},
   "outputs": [],
   "source": [
    "weights_model(Ridge())"
   ]
  },
  {
   "cell_type": "markdown",
   "id": "1e502fff-f4e9-44f9-9da0-2a7ac66c4016",
   "metadata": {},
   "source": [
    "## SGD Regressor"
   ]
  },
  {
   "cell_type": "code",
   "execution_count": null,
   "id": "177ba809-713d-42fc-b778-9c0027b23bce",
   "metadata": {},
   "outputs": [],
   "source": [
    "%%time\n",
    "testing_model(SGDRegressor(), 'SGD Regressor')"
   ]
  },
  {
   "cell_type": "code",
   "execution_count": null,
   "id": "1b62aa6f-af8c-48d4-b316-30afa72b3bcd",
   "metadata": {},
   "outputs": [],
   "source": [
    "weights_model(SGDRegressor())"
   ]
  },
  {
   "cell_type": "markdown",
   "id": "c9930386-313e-4012-82a6-ca0100e1ea22",
   "metadata": {},
   "source": [
    "Los modelos Ridge y Regresión Lineal asignan un mayor peso de predicción a las siguientes características:\n",
    "- country_Kenya\n",
    "- country_Norway\n",
    "- product_Kerneler\n",
    "- store_Premium Sticker Mart\n",
    "- date_nameday_Sunday\n",
    "\n",
    "Mientras que las caracteristicas con mayor peso para SGD Regressor son:\n",
    "- country_Kenya\n",
    "- product_Kaggle\n",
    "- country_Italy\n",
    "- store_Premium Sticker Mart\n",
    "- date_day\n",
    "\n",
    "Estos resultados indican que Kenya es un factor muy importante para predecir el número de ventas, lo cual coincide con el análisis de datos previo, donde se observó que Kenia fue, por un gran margen, el país con menor volumen de ventas. Este comportamiento sugiere que las condiciones específicas del mercado en Kenia, como el poder adquisitivo, los hábitos de consumo o la penetración de productos, tienen un impacto significativo en las ventas. Además, se destaca la importancia de Premium Sticker Mart como la tienda con mayor influencia en las predicciones, lo que refuerza su posición dominante en el mercado.\n",
    "\n",
    "Por otro lado, características como date_nameday_Sunday y date_day resaltan la relevancia de los factores temporales en las ventas, lo que sugiere que los días específicos y los fines de semana tienen un impacto considerable en el comportamiento de los consumidores. Finalmente, productos como Kerneler y Kaggle también muestran un peso significativo, lo que indica que la elección del producto es un factor clave en las predicciones."
   ]
  },
  {
   "cell_type": "markdown",
   "id": "345cd72d-6551-4a18-aa5f-733ccacb4992",
   "metadata": {},
   "source": [
    "Por otro lado, podemos observar que estos modelos lineales de regresión presentan un Error Cuadrático Medio (MSE) similar, tanto para el conjunto de entrenamiento como para el conjunto de validación. Esto sugiere que los modelos tienen un rendimiento comparable en términos de precisión. Sin embargo, cabe resaltar que, de los tres modelos, SGD Regressor presenta ligeramente mejores resultados, aunque a costa de un mayor tiempo de ejecución. Esto podría deberse a su enfoque iterativo y su capacidad para manejar grandes volúmenes de datos de manera eficiente, aunque con un costo computacional más alto."
   ]
  },
  {
   "cell_type": "markdown",
   "id": "5f53ac44-0471-4905-96db-29cfa917df89",
   "metadata": {},
   "source": [
    "## Arbol de decisión"
   ]
  },
  {
   "cell_type": "code",
   "execution_count": null,
   "id": "e74569b3-2519-4fa8-ace3-38d3fb08262c",
   "metadata": {},
   "outputs": [],
   "source": [
    "%%time\n",
    "testing_model(DecisionTreeRegressor(), 'Arbol de desicion')"
   ]
  },
  {
   "cell_type": "code",
   "execution_count": null,
   "id": "f689cf4c-c639-40d5-8a1b-8c8fc87b51b9",
   "metadata": {
    "jupyter": {
     "source_hidden": true
    }
   },
   "outputs": [],
   "source": [
    "def visualize_decision_tree(model, feature_names, max_depth=None):\n",
    "    plt.figure(figsize=(24, 10))  # Increase figure size\n",
    "    plot_tree(model, \n",
    "              feature_names=feature_names, \n",
    "              filled=True, \n",
    "              fontsize=10, \n",
    "              proportion=True, \n",
    "              max_depth=max_depth) \n",
    "    plt.title(\"Decision Tree Visualization\", fontsize=16)\n",
    "    plt.show()\n",
    "\n",
    "# Entrenamos un modelo de regresion con maximo 4 para su visualizacion\n",
    "decision_tree_model = DecisionTreeRegressor(max_depth=4)  # Limit depth to 4\n",
    "decision_tree_model.fit(X_train, train_targets)\n",
    "\n",
    "# Visualize the improved tree\n",
    "visualize_decision_tree(decision_tree_model, feature_names=X_train.columns)"
   ]
  },
  {
   "cell_type": "code",
   "execution_count": null,
   "id": "ed527285-6697-456c-808a-7b8a94f19339",
   "metadata": {},
   "outputs": [],
   "source": [
    "importance_feature(DecisionTreeRegressor())"
   ]
  },
  {
   "cell_type": "markdown",
   "id": "1441b49a-2e33-4a2a-a327-15286d0b52c6",
   "metadata": {},
   "source": [
    "De acuerdo a los valores de MSE Y $R^2$ podemos ver que presenta mejores resultados aunque se nota que nuestro modelo esta sobreajustado por lo tanto conviene encontrar los valores optimos para los hiperparametros del modelo."
   ]
  },
  {
   "cell_type": "code",
   "execution_count": null,
   "id": "c42e5914-4f36-40b0-ac93-4fb4c607c847",
   "metadata": {},
   "outputs": [],
   "source": [
    "def testing_params(modelo,**params):\n",
    "    model = modelo(random_state=42, **params)\n",
    "    model.fit(X_train, train_targets)\n",
    "    \n",
    "    train_error = 1 - model.score(X_train, train_targets) \n",
    "    val_error = 1 - model.score(X_val, val_targets)\n",
    "    return { **params,'Training Error': train_error, 'Validation Error': val_error}"
   ]
  },
  {
   "cell_type": "markdown",
   "id": "14753547-06c5-4753-ae68-79e7ab332735",
   "metadata": {},
   "source": [
    "## Max Depth"
   ]
  },
  {
   "cell_type": "code",
   "execution_count": null,
   "id": "9573fbda-ea03-427f-8364-9fa97875582c",
   "metadata": {},
   "outputs": [],
   "source": [
    "testing_params_df = pd.DataFrame([testing_params(DecisionTreeRegressor, max_depth=8*i ) for i in range(1, 5)])\n",
    "plt.figure()\n",
    "plt.plot(testing_params_df['max_depth'], testing_params_df['Training Error'])\n",
    "plt.plot(testing_params_df['max_depth'], testing_params_df['Validation Error'])\n",
    "plt.title('Training vs. Validation Error')\n",
    "plt.xlabel('Max. Depth')\n",
    "plt.ylabel('Prediction Error (1 - R^2)')\n",
    "plt.legend(['Training', 'Validation'])\n",
    "plt.show()"
   ]
  },
  {
   "cell_type": "code",
   "execution_count": null,
   "id": "05bf314e-5d99-43e5-b5cf-5a11b864095d",
   "metadata": {},
   "outputs": [],
   "source": [
    "testing_params_df.sort_values('Validation Error', ascending=True).head(1)"
   ]
  },
  {
   "cell_type": "markdown",
   "id": "f9a892a7-64cd-4a3d-b547-05828504e48e",
   "metadata": {},
   "source": [
    "El valor más óptimo es **max_depth=16**\n",
    "\n",
    "Veamos ahora el numero maximo de hojas."
   ]
  },
  {
   "cell_type": "markdown",
   "id": "f5038d94-1778-4136-b44f-bfe2ff631278",
   "metadata": {},
   "source": [
    "## Max Leaf Nodes"
   ]
  },
  {
   "cell_type": "code",
   "execution_count": null,
   "id": "99cb7af8-353e-4537-ba4f-904b6ea107bb",
   "metadata": {},
   "outputs": [],
   "source": [
    "testing_params_df = pd.DataFrame([testing_params(DecisionTreeRegressor, max_depth = 16, max_leaf_nodes=25*i) for i in range(1, 10)])\n",
    "plt.figure()\n",
    "plt.plot(testing_params_df['max_leaf_nodes'], testing_params_df['Training Error'])\n",
    "plt.plot(testing_params_df['max_leaf_nodes'], testing_params_df['Validation Error'])\n",
    "plt.title('Training vs. Validation Error')\n",
    "plt.xlabel('Max Leaf Nodes')\n",
    "plt.ylabel('Prediction Error (1 - R^2)')\n",
    "plt.legend(['Training', 'Validation'])\n",
    "plt.show()"
   ]
  },
  {
   "cell_type": "code",
   "execution_count": null,
   "id": "3db0b66d-7eb1-49ef-a52b-377f5c1160f5",
   "metadata": {},
   "outputs": [],
   "source": [
    "testing_params_df.sort_values('Validation Error', ascending=True).head(1)"
   ]
  },
  {
   "cell_type": "markdown",
   "id": "393a3971-4679-4ba1-a199-24fd79c45595",
   "metadata": {},
   "source": [
    "Podemos ver que **max_leaf_nodes=175** es un valor optimo pues apartir de ahi la el error de validacion empieca a crecer. Veamos cuanto mejora el ajuste con estos hiperparametros."
   ]
  },
  {
   "cell_type": "code",
   "execution_count": null,
   "id": "3db23db4-d245-483e-a46a-582626af6c98",
   "metadata": {},
   "outputs": [],
   "source": [
    "%%time\n",
    "testing_model(DecisionTreeRegressor(max_depth=16, max_leaf_nodes = 175, random_state=42), 'Arbol de desicion')"
   ]
  },
  {
   "cell_type": "markdown",
   "id": "38b2f809-8c5a-40e5-a011-a667872de029",
   "metadata": {},
   "source": [
    "### El modelo con este ajuste presenta mejores resultados para el conjunto de validación. Veamos si mejora y cuanto con un modelo de Random Forest"
   ]
  },
  {
   "cell_type": "markdown",
   "id": "7651f8e3-3ba3-4495-9cde-9b4d58a6d8cc",
   "metadata": {},
   "source": [
    "## Random Forest"
   ]
  },
  {
   "cell_type": "code",
   "execution_count": null,
   "id": "fdc0e2ad-2fb2-4303-9dd9-b33000e22107",
   "metadata": {},
   "outputs": [],
   "source": [
    "%%time\n",
    "testing_model(RandomForestRegressor(), 'Random Forest')"
   ]
  },
  {
   "cell_type": "code",
   "execution_count": null,
   "id": "f31981f7-1153-42ef-8174-7295417978f9",
   "metadata": {},
   "outputs": [],
   "source": [
    "importance_feature(RandomForestRegressor())"
   ]
  },
  {
   "cell_type": "markdown",
   "id": "18a38928-6729-42b3-87dc-7b23748a797e",
   "metadata": {},
   "source": [
    "De igual forma que en el modelo anterior, hallaremos el valor de los hiperparametros más óptimo. Comencemos con `n_estimators`"
   ]
  },
  {
   "cell_type": "markdown",
   "id": "8b888bde-08aa-4562-88af-fe84219ebd48",
   "metadata": {},
   "source": [
    "## N Estimators "
   ]
  },
  {
   "cell_type": "code",
   "execution_count": null,
   "id": "64d00a44-358c-4481-8b05-ec959fd0a581",
   "metadata": {},
   "outputs": [],
   "source": [
    "testing_params_df = pd.DataFrame([testing_params(RandomForestRegressor, n_estimators=2*i, n_jobs=-1 ) for i in range(12, 25)])\n",
    "plt.figure()\n",
    "plt.plot(testing_params_df['n_estimators'], testing_params_df['Training Error'])\n",
    "plt.plot(testing_params_df['n_estimators'], testing_params_df['Validation Error'])\n",
    "plt.title('Training vs. Validation Error')\n",
    "plt.xlabel('N estimators')\n",
    "plt.ylabel('Prediction Error (1 - R^2)')\n",
    "plt.legend(['Training', 'Validation'])\n",
    "plt.show()"
   ]
  },
  {
   "cell_type": "code",
   "execution_count": null,
   "id": "7b7ce928-0cb0-4c32-aca1-50abda7e2bf3",
   "metadata": {},
   "outputs": [],
   "source": [
    "testing_params_df.sort_values('Validation Error', ascending=True).head(1)"
   ]
  },
  {
   "cell_type": "markdown",
   "id": "c8cb8f81-fef6-4479-bc73-e81aec9e3551",
   "metadata": {},
   "source": [
    "El valor óptimo para `n_stimators` es 40,  aunque disminuye mas, la reduccion es mínima"
   ]
  },
  {
   "cell_type": "markdown",
   "id": "cb7eb8e8-c46f-48b2-a8fe-15c474a94d0f",
   "metadata": {},
   "source": [
    "## Max_depth"
   ]
  },
  {
   "cell_type": "code",
   "execution_count": null,
   "id": "b4fead2c-df1a-4661-a335-bfac0d27df8b",
   "metadata": {},
   "outputs": [],
   "source": [
    "testing_params_df = pd.DataFrame([testing_params(RandomForestRegressor, n_estimators=40, max_depth=3*i, n_jobs=-1 ) for i in range(1, 10)])\n",
    "plt.figure()\n",
    "plt.plot(testing_params_df['max_depth'], testing_params_df['Training Error'])\n",
    "plt.plot(testing_params_df['max_depth'], testing_params_df['Validation Error'])\n",
    "plt.title('Training vs. Validation Error')\n",
    "plt.xlabel('Max Depth')\n",
    "plt.ylabel('Prediction Error (1 - R^2)')\n",
    "plt.legend(['Training', 'Validation'])\n",
    "plt.show()"
   ]
  },
  {
   "cell_type": "code",
   "execution_count": null,
   "id": "12058563-656c-490b-9543-19994e763be0",
   "metadata": {},
   "outputs": [],
   "source": [
    "testing_params_df.sort_values('Validation Error', ascending=True).head(1)"
   ]
  },
  {
   "cell_type": "markdown",
   "id": "8396669e-526b-4c00-94b0-5c55bc4da1e5",
   "metadata": {},
   "source": [
    "El valor óptimo para `max_depth` es **18**"
   ]
  },
  {
   "cell_type": "markdown",
   "id": "ff8ad7b2-ff8b-4fdf-8f45-a6fa48c7c66b",
   "metadata": {},
   "source": [
    "## Max Leaf Nodes"
   ]
  },
  {
   "cell_type": "code",
   "execution_count": null,
   "id": "126220d2-2a3b-41a3-841a-007521749210",
   "metadata": {},
   "outputs": [],
   "source": [
    "testing_params_df = pd.DataFrame([testing_params(RandomForestRegressor, n_estimators=40, max_depth=18, max_leaf_nodes=50*i, n_jobs=-1 ) for i in range(4, 8)])\n",
    "plt.figure()\n",
    "plt.plot(testing_params_df['max_leaf_nodes'], testing_params_df['Training Error'])\n",
    "plt.plot(testing_params_df['max_leaf_nodes'], testing_params_df['Validation Error'])\n",
    "plt.title('Training vs. Validation Error')\n",
    "plt.xlabel('Max Leaf Nodes')\n",
    "plt.ylabel('Prediction Error (1 - R^2)')\n",
    "plt.legend(['Training', 'Validation'])\n",
    "plt.show()"
   ]
  },
  {
   "cell_type": "code",
   "execution_count": null,
   "id": "8a02804e-cc60-4b03-bbd6-037442f61846",
   "metadata": {},
   "outputs": [],
   "source": [
    "testing_params_df.sort_values('Validation Error', ascending=True).head(1)"
   ]
  },
  {
   "cell_type": "markdown",
   "id": "2fbe48b3-427c-4134-b33d-b96b2bef634b",
   "metadata": {},
   "source": [
    "El valor óptimo para `n_stimators` es 40,  aunque disminuye mas, la reduccion es mínima"
   ]
  },
  {
   "cell_type": "code",
   "execution_count": null,
   "id": "42c593cc-da0c-4e15-9c13-54e44fa94378",
   "metadata": {},
   "outputs": [],
   "source": [
    "%%time\n",
    "testing_model(RandomForestRegressor(random_state = 42, n_estimators=18, max_depth=18, max_leaf_nodes=340, n_jobs=-1), 'Random Forest')"
   ]
  },
  {
   "cell_type": "markdown",
   "id": "ced196e3-f48e-4a92-9618-208d12c07763",
   "metadata": {},
   "source": [
    "Con este modelo tomaremos los datos de `test_df` y cambiaremos los valores del conjunto submission para subir nuestras predicciones a kaggle y el desempeño de nuestro modelo"
   ]
  },
  {
   "cell_type": "code",
   "execution_count": null,
   "id": "5e20d518-99d3-4fb6-aa22-9661d381b5c4",
   "metadata": {},
   "outputs": [],
   "source": [
    "def predict_and_submit(model, fname):\n",
    "    model.fit(X_train, train_targets)\n",
    "    test_preds = model.predict(X_test)\n",
    "    sub_df = pd.read_csv('sample_submission.csv')\n",
    "    sub_df['num_sold'] = test_preds\n",
    "    sub_df.to_csv(fname, index=None)"
   ]
  },
  {
   "cell_type": "code",
   "execution_count": null,
   "id": "6b5c831e-9c48-414c-aaf5-0feb6563ee80",
   "metadata": {},
   "outputs": [],
   "source": [
    "predict_and_submit(RandomForestRegressor(random_state = 42, n_estimators=18, max_depth=18, max_leaf_nodes=340, n_jobs=-1),'rf0_optimized_submission')"
   ]
  },
  {
   "cell_type": "markdown",
   "id": "02895e6e-29e6-4258-aa88-1248fe3de773",
   "metadata": {},
   "source": [
    "![](https://imgur.com/a/4zj3VpA.PNG)"
   ]
  },
  {
   "cell_type": "markdown",
   "id": "d20f0b74-8f09-4a40-b185-9bd4bf60e790",
   "metadata": {},
   "source": [
    "<a id='c6'></a>\n",
    "# <div style=\"text-align:center; border-radius:15px 15px; padding:15px; color:#333333; margin:0; ; padding:15px; font-size:100%; font:'Verdana'; background-color:#F5F5F5;border: 1px; overflow:hidden\"><b> 6. Resultados </b></div>"
   ]
  },
  {
   "cell_type": "markdown",
   "id": "ee6d55ec-1198-4e27-8117-1239314044b0",
   "metadata": {},
   "source": [
    "### Analisis comparativo de la eficiencia de los modelos\n",
    "\n",
    "Aqui un analisis del desempeño de las metricas para los modelos evulados:\n",
    "\n",
    "---\n",
    "\n",
    "### **1. Logistic Regresion & Ridge Regression**\n",
    "- **$R^2$**: 80.64 %\n",
    "- **MSE**: 229.421 \n",
    "- **Fortalezas**:\n",
    "    - Requiere un menor tiempo de entrenamiento, en promedio entre ambos modelos  toma **508 ms**\n",
    "- **Debilidades**:\n",
    "  - Las metricas son razonables para las predicciones aunque siguen siendo débiles para sus propósitos.\n",
    "    \n",
    "---\n",
    "\n",
    "### **2. SGD Regressor**\n",
    "- **$R^2$**: 80.85 %\n",
    "- **MSE**: 228.195 \n",
    "- **Fortalezas**:\n",
    "    - Presenta una ligera mejora en el desempeño de MSE en comparacion con los modelos de regresion lineal y de Ridge. \n",
    "- **Debilidades**:\n",
    "  - La cantidad de tiempo de entrenamiento es hasta casi 10 veces más en un total de **5.27 s**.\n",
    " \n",
    "---\n",
    "\n",
    "### **3. Decision Tree**\n",
    "- **$R^2$**: 94.20 %\n",
    "- **MSE**: 125.586\n",
    "- **Fortalezas**:\n",
    "    - Tiene significantemente un mejor resultado en ambas métricas a un tiempo de **1.09 s** por debajo de SGD Regressor.\n",
    "    -  Captura relaciones no necesariamente lineales.\n",
    "- **Debilidades**:\n",
    "  - Puede presentar un sobreajuste mayor que los de los demás modelos.\n",
    "\n",
    "---\n",
    "\n",
    "### **4. Random Forest**\n",
    "- **$R^2$**: 94.49 %\n",
    "- **MSE**: 122.389 \n",
    "- **Fortalezas**:\n",
    "    - Tiene una gran precisión reflejada en ambas métricas.\n",
    "    - Generalización mejorada debido al aprendizaje en cojunto (ensemble).\n",
    "- **Debilidades**:\n",
    "  - Toma demasiado tiempo en comparacion con los demas modelos. Un total de **22.4 s**\n",
    "\n",
    "---\n",
    "\n",
    "### **Comparación de resultados**\n",
    "| Model               | MSE  (Train) | R^2 %(Train) | MSE (Validation) | R^2 %(Validation) | CPU Time                         |\n",
    "|----------------------|----------|---------------------|------------------|--------------------|---------------------------------------|\n",
    "| Linear Regression  | 216.211   | 83.18                | 229.425             | 80.64               | 594 ms      |\n",
    "| Ridge        | 216.211  | 83.18                | 229.421             | 80.64               | 422 ms   |\n",
    "|SGD Regressor       | 216.423  | 83.15                | 228.195             | 80.85               | 5.27 s   |\n",
    "| Decision Tree  | 84.225 | 97.44               | 125.586             | 94.20               | 1.09 s       |\n",
    "| Random Forest  | 72.294   | 98.12                | 122.389             | 94.49               | 22.4 s           |\n",
    "\n",
    "---\n",
    "\n",
    "### **Conclusiones**\n",
    "1. **Si las metricas requieren un 80% de precision**: Use **Linear Regression** o **Ridge Regression** para un menor tiempo de entrenamiento.\n",
    "2. **Para precisiones próximas al 90% y tiempo bajo de entrenamiento**: Use **Desicion Tree**.\n",
    "3. **Si requiere precisiones mayores al 94% y el tiempo no es un problema**: Use **Random Forest**."
   ]
  },
  {
   "cell_type": "markdown",
   "id": "d615941e-f36c-4ae6-ae17-0b6e4ec9aad3",
   "metadata": {},
   "source": [
    "### Contacto: victorhuggh@gmail.com"
   ]
  }
 ],
 "metadata": {
  "kernelspec": {
   "display_name": "Python 3 (ipykernel)",
   "language": "python",
   "name": "python3"
  },
  "language_info": {
   "codemirror_mode": {
    "name": "ipython",
    "version": 3
   },
   "file_extension": ".py",
   "mimetype": "text/x-python",
   "name": "python",
   "nbconvert_exporter": "python",
   "pygments_lexer": "ipython3",
   "version": "3.12.7"
  }
 },
 "nbformat": 4,
 "nbformat_minor": 5
}
